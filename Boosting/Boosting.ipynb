{
 "cells": [
  {
   "cell_type": "code",
   "execution_count": 1,
   "metadata": {
    "collapsed": false
   },
   "outputs": [
    {
     "data": {
      "text/html": [
       "<div>\n",
       "<table border=\"1\" class=\"dataframe\">\n",
       "  <thead>\n",
       "    <tr style=\"text-align: right;\">\n",
       "      <th></th>\n",
       "      <th>age</th>\n",
       "      <th>sex</th>\n",
       "      <th>cp</th>\n",
       "      <th>trestbps</th>\n",
       "      <th>chol</th>\n",
       "      <th>fbs</th>\n",
       "      <th>restecg</th>\n",
       "      <th>thalac</th>\n",
       "      <th>exang</th>\n",
       "      <th>oldpeak</th>\n",
       "      <th>slope</th>\n",
       "      <th>ca</th>\n",
       "      <th>thal</th>\n",
       "      <th>num</th>\n",
       "    </tr>\n",
       "  </thead>\n",
       "  <tbody>\n",
       "    <tr>\n",
       "      <th>293</th>\n",
       "      <td>63.0</td>\n",
       "      <td>1.0</td>\n",
       "      <td>4.0</td>\n",
       "      <td>140.0</td>\n",
       "      <td>187.0</td>\n",
       "      <td>0.0</td>\n",
       "      <td>2.0</td>\n",
       "      <td>144.0</td>\n",
       "      <td>1.0</td>\n",
       "      <td>4.0</td>\n",
       "      <td>1.0</td>\n",
       "      <td>2.0</td>\n",
       "      <td>7.0</td>\n",
       "      <td>2</td>\n",
       "    </tr>\n",
       "    <tr>\n",
       "      <th>294</th>\n",
       "      <td>63.0</td>\n",
       "      <td>0.0</td>\n",
       "      <td>4.0</td>\n",
       "      <td>124.0</td>\n",
       "      <td>197.0</td>\n",
       "      <td>0.0</td>\n",
       "      <td>0.0</td>\n",
       "      <td>136.0</td>\n",
       "      <td>1.0</td>\n",
       "      <td>0.0</td>\n",
       "      <td>2.0</td>\n",
       "      <td>0.0</td>\n",
       "      <td>3.0</td>\n",
       "      <td>1</td>\n",
       "    </tr>\n",
       "    <tr>\n",
       "      <th>295</th>\n",
       "      <td>41.0</td>\n",
       "      <td>1.0</td>\n",
       "      <td>2.0</td>\n",
       "      <td>120.0</td>\n",
       "      <td>157.0</td>\n",
       "      <td>0.0</td>\n",
       "      <td>0.0</td>\n",
       "      <td>182.0</td>\n",
       "      <td>0.0</td>\n",
       "      <td>0.0</td>\n",
       "      <td>1.0</td>\n",
       "      <td>0.0</td>\n",
       "      <td>3.0</td>\n",
       "      <td>0</td>\n",
       "    </tr>\n",
       "    <tr>\n",
       "      <th>296</th>\n",
       "      <td>59.0</td>\n",
       "      <td>1.0</td>\n",
       "      <td>4.0</td>\n",
       "      <td>164.0</td>\n",
       "      <td>176.0</td>\n",
       "      <td>1.0</td>\n",
       "      <td>2.0</td>\n",
       "      <td>90.0</td>\n",
       "      <td>0.0</td>\n",
       "      <td>1.0</td>\n",
       "      <td>2.0</td>\n",
       "      <td>2.0</td>\n",
       "      <td>6.0</td>\n",
       "      <td>3</td>\n",
       "    </tr>\n",
       "    <tr>\n",
       "      <th>297</th>\n",
       "      <td>57.0</td>\n",
       "      <td>0.0</td>\n",
       "      <td>4.0</td>\n",
       "      <td>140.0</td>\n",
       "      <td>241.0</td>\n",
       "      <td>0.0</td>\n",
       "      <td>0.0</td>\n",
       "      <td>123.0</td>\n",
       "      <td>1.0</td>\n",
       "      <td>0.2</td>\n",
       "      <td>2.0</td>\n",
       "      <td>0.0</td>\n",
       "      <td>7.0</td>\n",
       "      <td>1</td>\n",
       "    </tr>\n",
       "    <tr>\n",
       "      <th>298</th>\n",
       "      <td>45.0</td>\n",
       "      <td>1.0</td>\n",
       "      <td>1.0</td>\n",
       "      <td>110.0</td>\n",
       "      <td>264.0</td>\n",
       "      <td>0.0</td>\n",
       "      <td>0.0</td>\n",
       "      <td>132.0</td>\n",
       "      <td>0.0</td>\n",
       "      <td>1.2</td>\n",
       "      <td>2.0</td>\n",
       "      <td>0.0</td>\n",
       "      <td>7.0</td>\n",
       "      <td>1</td>\n",
       "    </tr>\n",
       "    <tr>\n",
       "      <th>299</th>\n",
       "      <td>68.0</td>\n",
       "      <td>1.0</td>\n",
       "      <td>4.0</td>\n",
       "      <td>144.0</td>\n",
       "      <td>193.0</td>\n",
       "      <td>1.0</td>\n",
       "      <td>0.0</td>\n",
       "      <td>141.0</td>\n",
       "      <td>0.0</td>\n",
       "      <td>3.4</td>\n",
       "      <td>2.0</td>\n",
       "      <td>2.0</td>\n",
       "      <td>7.0</td>\n",
       "      <td>2</td>\n",
       "    </tr>\n",
       "    <tr>\n",
       "      <th>300</th>\n",
       "      <td>57.0</td>\n",
       "      <td>1.0</td>\n",
       "      <td>4.0</td>\n",
       "      <td>130.0</td>\n",
       "      <td>131.0</td>\n",
       "      <td>0.0</td>\n",
       "      <td>0.0</td>\n",
       "      <td>115.0</td>\n",
       "      <td>1.0</td>\n",
       "      <td>1.2</td>\n",
       "      <td>2.0</td>\n",
       "      <td>1.0</td>\n",
       "      <td>7.0</td>\n",
       "      <td>3</td>\n",
       "    </tr>\n",
       "    <tr>\n",
       "      <th>301</th>\n",
       "      <td>57.0</td>\n",
       "      <td>0.0</td>\n",
       "      <td>2.0</td>\n",
       "      <td>130.0</td>\n",
       "      <td>236.0</td>\n",
       "      <td>0.0</td>\n",
       "      <td>2.0</td>\n",
       "      <td>174.0</td>\n",
       "      <td>0.0</td>\n",
       "      <td>0.0</td>\n",
       "      <td>2.0</td>\n",
       "      <td>1.0</td>\n",
       "      <td>3.0</td>\n",
       "      <td>1</td>\n",
       "    </tr>\n",
       "    <tr>\n",
       "      <th>302</th>\n",
       "      <td>38.0</td>\n",
       "      <td>1.0</td>\n",
       "      <td>3.0</td>\n",
       "      <td>138.0</td>\n",
       "      <td>175.0</td>\n",
       "      <td>0.0</td>\n",
       "      <td>0.0</td>\n",
       "      <td>173.0</td>\n",
       "      <td>0.0</td>\n",
       "      <td>0.0</td>\n",
       "      <td>1.0</td>\n",
       "      <td>?</td>\n",
       "      <td>3.0</td>\n",
       "      <td>0</td>\n",
       "    </tr>\n",
       "  </tbody>\n",
       "</table>\n",
       "</div>"
      ],
      "text/plain": [
       "      age  sex   cp  trestbps   chol  fbs  restecg  thalac  exang  oldpeak  \\\n",
       "293  63.0  1.0  4.0     140.0  187.0  0.0      2.0   144.0    1.0      4.0   \n",
       "294  63.0  0.0  4.0     124.0  197.0  0.0      0.0   136.0    1.0      0.0   \n",
       "295  41.0  1.0  2.0     120.0  157.0  0.0      0.0   182.0    0.0      0.0   \n",
       "296  59.0  1.0  4.0     164.0  176.0  1.0      2.0    90.0    0.0      1.0   \n",
       "297  57.0  0.0  4.0     140.0  241.0  0.0      0.0   123.0    1.0      0.2   \n",
       "298  45.0  1.0  1.0     110.0  264.0  0.0      0.0   132.0    0.0      1.2   \n",
       "299  68.0  1.0  4.0     144.0  193.0  1.0      0.0   141.0    0.0      3.4   \n",
       "300  57.0  1.0  4.0     130.0  131.0  0.0      0.0   115.0    1.0      1.2   \n",
       "301  57.0  0.0  2.0     130.0  236.0  0.0      2.0   174.0    0.0      0.0   \n",
       "302  38.0  1.0  3.0     138.0  175.0  0.0      0.0   173.0    0.0      0.0   \n",
       "\n",
       "     slope   ca thal  num  \n",
       "293    1.0  2.0  7.0    2  \n",
       "294    2.0  0.0  3.0    1  \n",
       "295    1.0  0.0  3.0    0  \n",
       "296    2.0  2.0  6.0    3  \n",
       "297    2.0  0.0  7.0    1  \n",
       "298    2.0  0.0  7.0    1  \n",
       "299    2.0  2.0  7.0    2  \n",
       "300    2.0  1.0  7.0    3  \n",
       "301    2.0  1.0  3.0    1  \n",
       "302    1.0    ?  3.0    0  "
      ]
     },
     "execution_count": 1,
     "metadata": {},
     "output_type": "execute_result"
    }
   ],
   "source": [
    "import pandas\n",
    "import matplotlib.pyplot as plt\n",
    "from matplotlib import gridspec\n",
    "from sklearn.tree import DecisionTreeClassifier\n",
    "import numpy as np\n",
    "from sklearn.cross_validation import KFold\n",
    "from sklearn.cross_validation import cross_val_predict\n",
    "from sklearn.metrics import zero_one_loss\n",
    "from sklearn.metrics import confusion_matrix as cm\n",
    "import timeit\n",
    "from sklearn import svm\n",
    "from sklearn.metrics import hinge_loss\n",
    "\n",
    "%matplotlib inline\n",
    "\n",
    "pathToDataset = \"processed.cleveland.data.txt\"\n",
    "columns_names = ['age','sex','cp','trestbps','chol','fbs','restecg','thalac','exang','oldpeak','slope','ca','thal','num']\n",
    "data = pandas.read_csv(pathToDataset, sep=\",\",encoding=\"utf8\",names=columns_names)\n",
    "data.tail(10)"
   ]
  },
  {
   "cell_type": "code",
   "execution_count": 2,
   "metadata": {
    "collapsed": false
   },
   "outputs": [],
   "source": [
    "# Create features matrix and results vector\n",
    "X = data.iloc[:,:(data.shape[1]-1)]\n",
    "y= data.iloc[:,data.shape[1]-1]\n",
    "\n",
    "# Distinct values of the predicted variable (num)\n",
    "y_classes = np.unique(y)"
   ]
  },
  {
   "cell_type": "markdown",
   "metadata": {},
   "source": [
    "Replacing missing values with mean's column"
   ]
  },
  {
   "cell_type": "code",
   "execution_count": 3,
   "metadata": {
    "collapsed": false
   },
   "outputs": [],
   "source": [
    "check_missing=X.apply(lambda x : x.apply(lambda z : str(z)=='?'))\n",
    "missing_row_indexes, missing_column_indexes = np.where(check_missing==True)\n",
    "\n",
    "for column in np.unique(missing_column_indexes) :\n",
    "    rows_to_remove = np.where(missing_column_indexes==column)\n",
    "    a = pandas.Series(np.arange(0,X.shape[0])).isin(missing_row_indexes[rows_to_remove])\n",
    "    column_without_missing=X.iloc[:,column][~a]\n",
    "    mean=np.mean(pandas.Series(column_without_missing,dtype='float'))\n",
    "    X.iloc[missing_row_indexes[rows_to_remove],column] = np.repeat(mean,len(missing_row_indexes[rows_to_remove]))\n"
   ]
  },
  {
   "cell_type": "markdown",
   "metadata": {},
   "source": [
    "Let's define our weak learner function, which is a Decision tree classifier :"
   ]
  },
  {
   "cell_type": "code",
   "execution_count": 4,
   "metadata": {
    "collapsed": true
   },
   "outputs": [],
   "source": [
    "def weak_learner(X, y, class_weights, sample_weights,cv=1):\n",
    "    decision_tree = DecisionTreeClassifier(max_depth=4,class_weight=class_weights)\n",
    "    fit_params = {'sample_weight' : sample_weights}\n",
    "    decision_tree.fit(X,y,sample_weight=sample_weights)\n",
    "    y_predicted = decision_tree.predict(X)\n",
    "    #y_predicted = cross_val_predict(decision_tree, X,y, cv=cv, fit_params=fit_params)\n",
    "    return(y_predicted)"
   ]
  },
  {
   "cell_type": "markdown",
   "metadata": {},
   "source": [
    "AdaBoost.M1 core function :\n",
    "\n",
    "$ w_i^{t+1} = w_i^t \\beta^{1 - h_t(x_i) y_i} =  w_i^t e^{log(\\beta)(1 - [\\![ h_t(x_i)\\neq y_i) ]\\!]) } $"
   ]
  },
  {
   "cell_type": "code",
   "execution_count": 5,
   "metadata": {
    "collapsed": true
   },
   "outputs": [],
   "source": [
    "def adaboost_m1(X,y,w_t,t,T):\n",
    "    p.iloc[:,t]= np.array(w_t)/(np.sum(w_t))\n",
    "    y_predicted.iloc[:,t] = weak_learner(X,y,class_weights,np.array(p.iloc[:,t]))\n",
    "    \n",
    "    # Error computation at step t\n",
    "    error = zero_one_loss(y_predicted.iloc[:,t],y,sample_weight=(p.iloc[:,t].tolist()))\n",
    "    \n",
    "    if error <= 0.5 :\n",
    "        beta[t] = error/(1-error)\n",
    "        \n",
    "        # Error computation of the final hypothesis \n",
    "        y_final_predicted = compute_final_hypothesis(y_predicted.iloc[:,range(t+1)],y_classes,beta[range(t+1)])\n",
    "        final_error[t] = zero_one_loss(y_final_predicted,y)\n",
    "        print('final error : ', final_error[t])\n",
    "    \n",
    "        w_t = w_t* (np.exp((1-abs(np.sign(y_predicted.iloc[:,t] - y)))*np.log(beta[t])))\n",
    "        if t<T :\n",
    "            return(adaboost_m1(X,y,w_t,t+1,T))\n",
    "        else :\n",
    "            return(T)\n",
    "    else :\n",
    "        return(t)"
   ]
  },
  {
   "cell_type": "code",
   "execution_count": 6,
   "metadata": {
    "collapsed": false
   },
   "outputs": [],
   "source": [
    "def compute_final_hypothesis(y_predicted,y_classes,beta):\n",
    "    h=pandas.DataFrame(columns=y_classes)\n",
    "    for y_class in y_classes :\n",
    "        h.iloc[:,y_class] = np.sum(np.log(1/beta)*(y_predicted == y_class) ,axis=1)\n",
    "    hf= h.idxmax(axis=1)\n",
    "    return(hf)"
   ]
  },
  {
   "cell_type": "markdown",
   "metadata": {},
   "source": [
    "Adaboost.M1 parameters Initialization :"
   ]
  },
  {
   "cell_type": "code",
   "execution_count": 7,
   "metadata": {
    "collapsed": false
   },
   "outputs": [],
   "source": [
    "class_weights ={}\n",
    "for i in y_classes :\n",
    "    class_weights[i]= 1/ len(y_classes)\n",
    "#Max number of iterations\n",
    "T=200\n",
    "t=0\n",
    "beta = np.zeros(T)\n",
    "p = pandas.DataFrame(columns=range(T))\n",
    "y_predicted = pandas.DataFrame(columns=range(T))\n",
    "\n",
    "w_t = np.ones_like(y) / len(y)\n",
    "final_error = np.zeros(T)"
   ]
  },
  {
   "cell_type": "markdown",
   "metadata": {},
   "source": [
    "Let's launch the AdaBoost.M1 algorithm on the provided data :"
   ]
  },
  {
   "cell_type": "code",
   "execution_count": 8,
   "metadata": {
    "collapsed": false
   },
   "outputs": [
    {
     "name": "stdout",
     "output_type": "stream",
     "text": [
      "final error :  0.293729372937\n",
      "final error :  0.293729372937\n",
      "final error :  0.273927392739\n",
      "final error :  0.273927392739\n",
      "final error :  0.273927392739\n",
      "final error :  0.260726072607\n",
      "final error :  0.244224422442\n",
      "Number of iterations :  8\n"
     ]
    }
   ],
   "source": [
    "t_max=adaboost_m1(X,y,w_t,t,T)\n",
    "\n",
    "# Dropping all useless columns (steps not computed)\n",
    "y_predicted = y_predicted.iloc[:,np.arange(0,t_max)]\n",
    "beta = beta[np.arange(0,t_max)]\n",
    "final_error = final_error[np.arange(0,t_max)]\n",
    "print(\"Number of iterations : \",t_max +1)\n"
   ]
  },
  {
   "cell_type": "code",
   "execution_count": 56,
   "metadata": {
    "collapsed": false
   },
   "outputs": [
    {
     "data": {
      "text/plain": [
       "<matplotlib.text.Text at 0x9283ac8>"
      ]
     },
     "execution_count": 56,
     "metadata": {},
     "output_type": "execute_result"
    },
    {
     "data": {
      "image/png": "[encoded data removed]",
      "text/plain": [
       "<matplotlib.figure.Figure at 0xe3b0b8>"
      ]
     },
     "metadata": {},
     "output_type": "display_data"
    }
   ],
   "source": [
    "plt.plot(final_error,'-o')\n",
    "plt.ylabel('final hypothesis error')\n",
    "plt.xlabel('step')"
   ]
  },
  {
   "cell_type": "markdown",
   "metadata": {},
   "source": [
    "### Cas binaire :"
   ]
  },
  {
   "cell_type": "code",
   "execution_count": 16,
   "metadata": {
    "collapsed": false
   },
   "outputs": [
    {
     "name": "stderr",
     "output_type": "stream",
     "text": [
      "c:\\users\\wymeka\\documents\\python\\python\\lib\\site-packages\\ipykernel\\__main__.py:1: SettingWithCopyWarning: \n",
      "A value is trying to be set on a copy of a slice from a DataFrame\n",
      "\n",
      "See the caveats in the documentation: http://pandas.pydata.org/pandas-docs/stable/indexing.html#indexing-view-versus-copy\n",
      "  if __name__ == '__main__':\n"
     ]
    }
   ],
   "source": [
    "y[y !=0]=1\n",
    "y_classes = np.unique(y)"
   ]
  },
  {
   "cell_type": "code",
   "execution_count": 28,
   "metadata": {
    "collapsed": false
   },
   "outputs": [],
   "source": [
    "class_weights ={}\n",
    "for i in y_classes :\n",
    "    class_weights[i]= 1/ len(y_classes)\n",
    "#Max number of iterations\n",
    "T=200\n",
    "t=0\n",
    "beta = np.zeros(T+1)\n",
    "p = pandas.DataFrame(columns=range(0,T+1))\n",
    "y_predicted = pandas.DataFrame(columns=range(0,T+1))\n",
    "\n",
    "w_t = np.ones_like(y) / len(y)\n",
    "final_error = np.zeros(T+1)"
   ]
  },
  {
   "cell_type": "code",
   "execution_count": 29,
   "metadata": {
    "collapsed": false
   },
   "outputs": [
    {
     "name": "stdout",
     "output_type": "stream",
     "text": [
      "final error :  0.125412541254\n",
      "final error :  0.125412541254\n",
      "final error :  0.042904290429\n",
      "final error :  0.042904290429\n",
      "final error :  0.019801980198\n",
      "final error :  0.016501650165\n",
      "final error :  0.003300330033\n",
      "final error :  0.00660066006601\n",
      "final error :  0.003300330033\n",
      "final error :  0.0\n",
      "final error :  0.0\n",
      "final error :  0.0\n",
      "final error :  0.0\n",
      "final error :  0.0\n",
      "final error :  0.0\n",
      "final error :  0.0\n",
      "final error :  0.0\n",
      "final error :  0.0\n",
      "final error :  0.0\n",
      "final error :  0.0\n",
      "final error :  0.0\n",
      "final error :  0.0\n",
      "final error :  0.0\n",
      "final error :  0.0\n",
      "final error :  0.0\n",
      "final error :  0.0\n",
      "final error :  0.0\n",
      "final error :  0.0\n",
      "final error :  0.0\n",
      "final error :  0.0\n",
      "final error :  0.0\n",
      "final error :  0.0\n",
      "final error :  0.0\n",
      "final error :  0.0\n",
      "final error :  0.0\n",
      "final error :  0.0\n",
      "final error :  0.0\n",
      "final error :  0.0\n",
      "final error :  0.0\n",
      "final error :  0.0\n",
      "final error :  0.0\n",
      "final error :  0.0\n",
      "final error :  0.0\n",
      "final error :  0.0\n",
      "final error :  0.0\n",
      "final error :  0.0\n",
      "final error :  0.0\n",
      "final error :  0.0\n",
      "final error :  0.0\n",
      "final error :  0.0\n",
      "final error :  0.0\n",
      "final error :  0.0\n",
      "final error :  0.0\n",
      "final error :  0.0\n",
      "final error :  0.0\n",
      "final error :  0.0\n",
      "final error :  0.0\n",
      "final error :  0.0\n",
      "final error :  0.0\n",
      "final error :  0.0\n",
      "final error :  0.0\n",
      "final error :  0.0\n",
      "final error :  0.0\n",
      "final error :  0.0\n",
      "final error :  0.0\n",
      "final error :  0.0\n",
      "final error :  0.0\n",
      "final error :  0.0\n",
      "final error :  0.0\n",
      "final error :  0.0\n",
      "final error :  0.0\n",
      "final error :  0.0\n",
      "final error :  0.0\n",
      "final error :  0.0\n",
      "final error :  0.0\n",
      "final error :  0.0\n",
      "final error :  0.0\n",
      "final error :  0.0\n",
      "final error :  0.0\n",
      "final error :  0.0\n",
      "final error :  0.0\n",
      "final error :  0.0\n",
      "final error :  0.0\n",
      "final error :  0.0\n",
      "final error :  0.0\n",
      "final error :  0.0\n",
      "final error :  0.0\n",
      "final error :  0.0\n",
      "final error :  0.0\n",
      "final error :  0.0\n",
      "final error :  0.0\n",
      "final error :  0.0\n",
      "final error :  0.0\n",
      "final error :  0.0\n",
      "final error :  0.0\n",
      "final error :  0.0\n",
      "final error :  0.0\n",
      "final error :  0.0\n",
      "final error :  0.0\n",
      "final error :  0.0\n",
      "final error :  0.0\n",
      "final error :  0.0\n",
      "final error :  0.0\n",
      "final error :  0.0\n",
      "final error :  0.0\n",
      "final error :  0.0\n",
      "final error :  0.0\n",
      "final error :  0.0\n",
      "final error :  0.0\n",
      "final error :  0.0\n",
      "final error :  0.0\n",
      "final error :  0.0\n",
      "final error :  0.0\n",
      "final error :  0.0\n",
      "final error :  0.0\n",
      "final error :  0.0\n",
      "final error :  0.0\n",
      "final error :  0.0\n",
      "final error :  0.0\n",
      "final error :  0.0\n",
      "final error :  0.0\n",
      "final error :  0.0\n",
      "final error :  0.0\n",
      "final error :  0.0\n",
      "final error :  0.0\n",
      "final error :  0.0\n",
      "final error :  0.0\n",
      "final error :  0.0\n",
      "final error :  0.0\n",
      "final error :  0.0\n",
      "final error :  0.0\n",
      "final error :  0.0\n",
      "final error :  0.0\n",
      "final error :  0.0\n",
      "final error :  0.0\n",
      "final error :  0.0\n",
      "final error :  0.0\n",
      "final error :  0.0\n",
      "final error :  0.0\n",
      "final error :  0.0\n",
      "final error :  0.0\n",
      "final error :  0.0\n",
      "final error :  0.0\n",
      "final error :  0.0\n",
      "final error :  0.0\n",
      "final error :  0.0\n",
      "final error :  0.0\n",
      "final error :  0.0\n",
      "final error :  0.0\n",
      "final error :  0.0\n",
      "final error :  0.0\n",
      "final error :  0.0\n",
      "final error :  0.0\n",
      "final error :  0.0\n",
      "final error :  0.0\n",
      "final error :  0.0\n",
      "final error :  0.0\n",
      "final error :  0.0\n",
      "final error :  0.0\n",
      "final error :  0.0\n",
      "final error :  0.0\n",
      "final error :  0.0\n",
      "final error :  0.0\n",
      "final error :  0.0\n",
      "final error :  0.0\n",
      "final error :  0.0\n",
      "final error :  0.0\n",
      "final error :  0.0\n",
      "final error :  0.0\n",
      "final error :  0.0\n",
      "final error :  0.0\n",
      "final error :  0.0\n",
      "final error :  0.0\n",
      "final error :  0.0\n",
      "final error :  0.0\n",
      "final error :  0.0\n",
      "final error :  0.0\n",
      "final error :  0.0\n",
      "final error :  0.0\n",
      "final error :  0.0\n",
      "final error :  0.0\n",
      "final error :  0.0\n",
      "final error :  0.0\n",
      "final error :  0.0\n",
      "final error :  0.0\n",
      "final error :  0.0\n",
      "final error :  0.0\n",
      "final error :  0.0\n",
      "final error :  0.0\n",
      "final error :  0.0\n",
      "final error :  0.0\n",
      "final error :  0.0\n",
      "final error :  0.0\n",
      "final error :  0.0\n",
      "final error :  0.0\n",
      "final error :  0.0\n",
      "final error :  0.0\n",
      "final error :  0.0\n",
      "final error :  0.0\n",
      "final error :  0.0\n",
      "final error :  0.0\n",
      "Number of iterations :  201\n"
     ]
    }
   ],
   "source": [
    "t_max=adaboost_m1(X,y,w_t,t,T)\n",
    "\n",
    "# Dropping all useless columns (steps not computed)\n",
    "y_predicted = y_predicted.iloc[:,np.arange(0,t_max)]\n",
    "beta = beta[np.arange(0,t_max)]\n",
    "final_error = final_error[np.arange(0,t_max)]\n",
    "print(\"Number of iterations : \",t_max +1)"
   ]
  },
  {
   "cell_type": "code",
   "execution_count": 30,
   "metadata": {
    "collapsed": false
   },
   "outputs": [
    {
     "data": {
      "text/plain": [
       "<matplotlib.text.Text at 0xacf5f8>"
      ]
     },
     "execution_count": 30,
     "metadata": {},
     "output_type": "execute_result"
    },
    {
     "data": {
      "image/png": "[encoded data removed]",
      "text/plain": [
       "<matplotlib.figure.Figure at 0xa71240>"
      ]
     },
     "metadata": {},
     "output_type": "display_data"
    }
   ],
   "source": [
    "plt.plot(final_error,'-o')\n",
    "plt.ylabel('final hypothesis error')\n",
    "plt.xlabel('step')"
   ]
  },
  {
   "cell_type": "code",
   "execution_count": null,
   "metadata": {
    "collapsed": true
   },
   "outputs": [],
   "source": []
  }
 ],
 "metadata": {
  "kernelspec": {
   "display_name": "Python 3",
   "language": "python",
   "name": "python3"
  },
  "language_info": {
   "codemirror_mode": {
    "name": "ipython",
    "version": 3
   },
   "file_extension": ".py",
   "mimetype": "text/x-python",
   "name": "python",
   "nbconvert_exporter": "python",
   "pygments_lexer": "ipython3",
   "version": "3.4.4"
  }
 },
 "nbformat": 4,
 "nbformat_minor": 0
}
